{
 "cells": [
  {
   "cell_type": "code",
   "execution_count": 1,
   "metadata": {},
   "outputs": [
    {
     "data": {
      "text/plain": [
       "<module 'models.y2014.VGG' from 'C:\\\\Users\\\\siddi\\\\Documents\\\\GitHub\\\\Convolutional-Architecture-Timeline\\\\models\\\\y2014\\\\VGG.py'>"
      ]
     },
     "execution_count": 1,
     "metadata": {},
     "output_type": "execute_result"
    }
   ],
   "source": [
    "import numpy as np\n",
    "import matplotlib.pyplot as plt\n",
    "import cv2\n",
    "import pandas as pd\n",
    "import time\n",
    "import copy\n",
    "import datetime\n",
    "now = datetime.datetime.now()\n",
    "from importlib import reload\n",
    "import models\n",
    "from models.y2014 import VGG\n",
    "reload(models.y2014.VGG)"
   ]
  },
  {
   "cell_type": "code",
   "execution_count": 2,
   "metadata": {},
   "outputs": [
    {
     "name": "stdout",
     "output_type": "stream",
     "text": [
      "Runinng on : cuda:0 \n",
      "PyTorch Verison : 1.5.0\n"
     ]
    }
   ],
   "source": [
    "import torch \n",
    "from torch import nn\n",
    "from torch.optim import Adam,RMSprop,SGD, lr_scheduler\n",
    "from torch.autograd import backward\n",
    "from torchvision.datasets import CIFAR100, CIFAR10\n",
    "import torchvision.transforms as transforms\n",
    "from torch.utils.data import DataLoader, Dataset\n",
    "from torch.utils.tensorboard import SummaryWriter\n",
    "device = torch.device(\"cuda:0\" if torch.cuda.is_available() else \"cpu\")\n",
    "import torchvision\n",
    "print(\"Runinng on :\", device,\"\\nPyTorch Verison :\",torch.__version__)"
   ]
  },
  {
   "cell_type": "code",
   "execution_count": 3,
   "metadata": {},
   "outputs": [
    {
     "name": "stdout",
     "output_type": "stream",
     "text": [
      "Files already downloaded and verified\n",
      "Files already downloaded and verified\n"
     ]
    }
   ],
   "source": [
    "transform = transforms.Compose(\n",
    "    [transforms.ToTensor(),\n",
    "     transforms.Normalize((0.5, 0.5, 0.5), (0.5, 0.5, 0.5))])\n",
    "train_dataset = CIFAR10(\"./data/\",train=True,transform = transform,download=True)\n",
    "test_dataset = CIFAR10(\"./data/\",train=False, transform = transform,download=True)"
   ]
  },
  {
   "cell_type": "code",
   "execution_count": 4,
   "metadata": {},
   "outputs": [],
   "source": [
    "writer = SummaryWriter(\"./runs/\"+now.strftime(\"%Y%m%d-%H%M%S\")+\"/cifar10_experiment\")\n",
    "batch_size = 4\n",
    "train_dataloader = DataLoader(train_dataset,batch_size=batch_size, shuffle=True)\n",
    "test_dataloader = DataLoader(test_dataset,batch_size=batch_size,shuffle=True)"
   ]
  },
  {
   "cell_type": "code",
   "execution_count": 5,
   "metadata": {},
   "outputs": [
    {
     "name": "stdout",
     "output_type": "stream",
     "text": [
      "Train Size 12500\n",
      "Test Size 2500\n"
     ]
    }
   ],
   "source": [
    "print(\"Train Size\",len(train_dataloader))\n",
    "print(\"Test Size\",len(test_dataloader))\n",
    "dataloaders = {\"train\":train_dataloader, \"val\":test_dataloader}\n",
    "dataset_sizes = {\"train\":len(train_dataset), \"val\":len(test_dataset)}"
   ]
  },
  {
   "cell_type": "code",
   "execution_count": 6,
   "metadata": {},
   "outputs": [
    {
     "name": "stdout",
     "output_type": "stream",
     "text": [
      "Total Model Parameters: 4330122\n",
      "Total Trainable Parameters 4330122\n"
     ]
    }
   ],
   "source": [
    "model = VGG.VGG()\n",
    "model = model.to(device)\n",
    "\n",
    "pytorch_total_params = sum(p.numel() for p in model.parameters())\n",
    "print(\"Total Model Parameters:\",pytorch_total_params)\n",
    "pytorch_trainable_params = sum(p.numel() for p in model.parameters() if p.requires_grad)\n",
    "print(\"Total Trainable Parameters\",pytorch_trainable_params)\n",
    "\n",
    "images,labels = iter(train_dataloader).next()\n",
    "img_grid = torchvision.utils.make_grid(images)\n",
    "writer.add_image('One Batch of Images - CIFAR10'+str(labels), img_grid)\n",
    "\n",
    "writer.add_graph(model,  torch.rand((3,32,32)).unsqueeze(0).cuda())\n",
    "writer.close()\n",
    "\n",
    "criterion = nn.CrossEntropyLoss()\n",
    "optimizer = Adam(model.parameters(), lr=0.001)\n",
    "exp_lr_scheduler = lr_scheduler.StepLR(optimizer, step_size=30, gamma=0.1)"
   ]
  },
  {
   "cell_type": "code",
   "execution_count": 8,
   "metadata": {},
   "outputs": [],
   "source": [
    "def train_model(model, criterion, optimizer, scheduler, num_epochs=5):\n",
    "    since = time.time()\n",
    "\n",
    "    best_model_wts = copy.deepcopy(model.state_dict())\n",
    "    best_acc = 0.0\n",
    "\n",
    "    for epoch in range(num_epochs):\n",
    "        print('Epoch {}/{}'.format(epoch, num_epochs - 1))\n",
    "        print('-' * 100)\n",
    "\n",
    "        # Each epoch has a training and validation phase\n",
    "        for phase in ['train', 'val']:\n",
    "            print(datetime.datetime.now(),\"\\n\")\n",
    "            if phase == 'train':\n",
    "                model.train()\n",
    "            else:\n",
    "                model.eval()\n",
    "\n",
    "            running_loss = 0.0\n",
    "            running_corrects = 0\n",
    "\n",
    "            # Iterate over data.\n",
    "            count = 0\n",
    "            for inputs, labels in dataloaders[phase]:\n",
    "                inputs = inputs.to(device)\n",
    "                labels = labels.to(device)\n",
    "                count = count +1 \n",
    "                \n",
    "                # zero the parameter gradients\n",
    "                optimizer.zero_grad()\n",
    "\n",
    "                # forward\n",
    "                # track history if only in train\n",
    "                with torch.set_grad_enabled(phase == 'train'):\n",
    "                    outputs = model(inputs)\n",
    "                    _, preds = torch.max(outputs, 1)\n",
    "                    loss = criterion(outputs, labels)\n",
    "                    # backward + optimize only if in training phase\n",
    "                    if phase == 'train':\n",
    "                        loss.backward()\n",
    "                        optimizer.step()\n",
    "\n",
    "                # statistics\n",
    "                running_loss += loss.item()\n",
    "                running_corrects += torch.sum(preds == labels.data)\n",
    "\n",
    "                if count%100 == 0:\n",
    "                    print(\"-\"*40)\n",
    "                    print(\"STEP : \",count,\"/\",len(dataloaders[phase]))\n",
    "                    print('ACC : {:.4f}'.format(running_corrects.double()/(count*batch_size)), phase.upper(),\"LOSS: {:.4f}\".format(running_loss / count))\n",
    "                    if phase == \"train\": writer.add_scalar('training loss',running_loss / count , epoch * len(train_dataloader) + count)\n",
    "                    if phase == \"train\": writer.add_scalar('training Accuracy',running_corrects.double() / (count*batch_size) , epoch * len(train_dataloader) + count)\n",
    "                    if phase == \"test\": writer.add_scalar('testing loss',running_loss / count , epoch * len(test_dataloader) + count)\n",
    "                    if phase == \"test\": writer.add_scalar('testing Accuracy',running_corrects.double() / (count*batch_size) , epoch * len(test_dataloader) + count)\n",
    "                    if phase == \"train\": writer.add_histogram(\"FC1 - Weights\",model.fc1.weight.cpu().detach().numpy(),count)\n",
    "                    if phase == \"train\": writer.add_histogram(\"Conv1 - Weights\",model.conv_1.weight.cpu().detach().numpy(),count)\n",
    "                    if phase == \"train\": writer.add_histogram(\"Conv2 - Weights\",model.conv_2.weight.cpu().detach().numpy(),count)\n",
    "                    if phase == \"train\": writer.add_histogram(\"Conv3 - Weights\",model.conv_3.weight.cpu().detach().numpy(),count)\n",
    "                    if phase == \"train\": writer.add_histogram(\"Conv4 - Weights\",model.conv_4.weight.cpu().detach().numpy(),count)\n",
    "                    writer.flush()\n",
    "                    \n",
    "            if phase == 'train':\n",
    "                scheduler.step()\n",
    "                \n",
    "\n",
    "            epoch_loss = running_loss / len(dataloaders[phase])\n",
    "            epoch_acc = running_corrects.double() / dataset_sizes[phase]\n",
    "            \n",
    "            print(\"-\"*100)\n",
    "            print('{} Loss: {:.4f} Acc: {:.4f}'.format(\n",
    "                phase, epoch_loss, epoch_acc))\n",
    "\n",
    "            # deep copy the model\n",
    "            if phase == 'val' and epoch_acc > best_acc:\n",
    "                best_acc = epoch_acc\n",
    "                best_model_wts = copy.deepcopy(model.state_dict())\n",
    "\n",
    "        print()\n",
    "\n",
    "    time_elapsed = time.time() - since\n",
    "    print(\"-\"*100)\n",
    "    print(\"-\"*100)\n",
    "    print('Training complete in {:.0f}m {:.0f}s'.format(\n",
    "        time_elapsed // 60, time_elapsed % 60))\n",
    "    print('Best val Acc: {:4f}'.format(best_acc))\n",
    "\n",
    "    # load best model weights\n",
    "    model.load_state_dict(best_model_wts)\n",
    "    return model"
   ]
  },
  {
   "cell_type": "code",
   "execution_count": 9,
   "metadata": {
    "scrolled": true
   },
   "outputs": [
    {
     "name": "stdout",
     "output_type": "stream",
     "text": [
      "Epoch 0/29\n",
      "----------------------------------------------------------------------------------------------------\n",
      "2020-06-13 23:13:24.884814 \n",
      "\n",
      "----------------------------------------\n",
      "STEP :  100 / 12500\n",
      "ACC : 0.1100 TRAIN LOSS: 2.3123\n",
      "----------------------------------------\n",
      "STEP :  200 / 12500\n",
      "ACC : 0.1325 TRAIN LOSS: 2.2511\n",
      "----------------------------------------\n",
      "STEP :  300 / 12500\n",
      "ACC : 0.1783 TRAIN LOSS: 2.1630\n",
      "----------------------------------------\n",
      "STEP :  400 / 12500\n",
      "ACC : 0.2006 TRAIN LOSS: 2.1068\n",
      "----------------------------------------\n",
      "STEP :  500 / 12500\n",
      "ACC : 0.2140 TRAIN LOSS: 2.0697\n",
      "----------------------------------------\n",
      "STEP :  600 / 12500\n",
      "ACC : 0.2283 TRAIN LOSS: 2.0433\n",
      "----------------------------------------\n",
      "STEP :  700 / 12500\n",
      "ACC : 0.2418 TRAIN LOSS: 2.0126\n",
      "----------------------------------------\n",
      "STEP :  800 / 12500\n",
      "ACC : 0.2538 TRAIN LOSS: 1.9849\n",
      "----------------------------------------\n",
      "STEP :  900 / 12500\n",
      "ACC : 0.2597 TRAIN LOSS: 1.9721\n",
      "----------------------------------------\n",
      "STEP :  1000 / 12500\n",
      "ACC : 0.2682 TRAIN LOSS: 1.9526\n",
      "----------------------------------------\n",
      "STEP :  1100 / 12500\n",
      "ACC : 0.2725 TRAIN LOSS: 1.9387\n",
      "----------------------------------------\n",
      "STEP :  1200 / 12500\n",
      "ACC : 0.2802 TRAIN LOSS: 1.9222\n",
      "----------------------------------------\n",
      "STEP :  1300 / 12500\n",
      "ACC : 0.2883 TRAIN LOSS: 1.9015\n",
      "----------------------------------------\n",
      "STEP :  1400 / 12500\n",
      "ACC : 0.2971 TRAIN LOSS: 1.8846\n",
      "----------------------------------------\n",
      "STEP :  1500 / 12500\n",
      "ACC : 0.3030 TRAIN LOSS: 1.8710\n",
      "----------------------------------------\n",
      "STEP :  1600 / 12500\n",
      "ACC : 0.3064 TRAIN LOSS: 1.8597\n",
      "----------------------------------------\n",
      "STEP :  1700 / 12500\n",
      "ACC : 0.3088 TRAIN LOSS: 1.8527\n",
      "----------------------------------------\n",
      "STEP :  1800 / 12500\n",
      "ACC : 0.3139 TRAIN LOSS: 1.8426\n",
      "----------------------------------------\n",
      "STEP :  1900 / 12500\n",
      "ACC : 0.3183 TRAIN LOSS: 1.8301\n",
      "----------------------------------------\n",
      "STEP :  2000 / 12500\n",
      "ACC : 0.3201 TRAIN LOSS: 1.8220\n",
      "----------------------------------------\n",
      "STEP :  2100 / 12500\n",
      "ACC : 0.3244 TRAIN LOSS: 1.8104\n",
      "----------------------------------------\n",
      "STEP :  2200 / 12500\n",
      "ACC : 0.3285 TRAIN LOSS: 1.8033\n",
      "----------------------------------------\n",
      "STEP :  2300 / 12500\n",
      "ACC : 0.3337 TRAIN LOSS: 1.7943\n",
      "----------------------------------------\n",
      "STEP :  2400 / 12500\n",
      "ACC : 0.3381 TRAIN LOSS: 1.7843\n",
      "----------------------------------------\n",
      "STEP :  2500 / 12500\n",
      "ACC : 0.3399 TRAIN LOSS: 1.7788\n",
      "----------------------------------------\n",
      "STEP :  2600 / 12500\n",
      "ACC : 0.3421 TRAIN LOSS: 1.7694\n",
      "----------------------------------------\n",
      "STEP :  2700 / 12500\n",
      "ACC : 0.3446 TRAIN LOSS: 1.7615\n",
      "----------------------------------------\n",
      "STEP :  2800 / 12500\n",
      "ACC : 0.3471 TRAIN LOSS: 1.7557\n",
      "----------------------------------------\n",
      "STEP :  2900 / 12500\n",
      "ACC : 0.3496 TRAIN LOSS: 1.7496\n",
      "----------------------------------------\n",
      "STEP :  3000 / 12500\n",
      "ACC : 0.3511 TRAIN LOSS: 1.7445\n",
      "----------------------------------------\n",
      "STEP :  3100 / 12500\n",
      "ACC : 0.3530 TRAIN LOSS: 1.7384\n",
      "----------------------------------------\n",
      "STEP :  3200 / 12500\n",
      "ACC : 0.3559 TRAIN LOSS: 1.7315\n",
      "----------------------------------------\n",
      "STEP :  3300 / 12500\n",
      "ACC : 0.3589 TRAIN LOSS: 1.7261\n",
      "----------------------------------------\n",
      "STEP :  3400 / 12500\n",
      "ACC : 0.3618 TRAIN LOSS: 1.7186\n",
      "----------------------------------------\n",
      "STEP :  3500 / 12500\n",
      "ACC : 0.3642 TRAIN LOSS: 1.7118\n",
      "----------------------------------------\n",
      "STEP :  3600 / 12500\n",
      "ACC : 0.3650 TRAIN LOSS: 1.7079\n",
      "----------------------------------------\n",
      "STEP :  3700 / 12500\n",
      "ACC : 0.3680 TRAIN LOSS: 1.7022\n",
      "----------------------------------------\n",
      "STEP :  3800 / 12500\n",
      "ACC : 0.3691 TRAIN LOSS: 1.6997\n",
      "----------------------------------------\n",
      "STEP :  3900 / 12500\n",
      "ACC : 0.3713 TRAIN LOSS: 1.6958\n",
      "----------------------------------------\n",
      "STEP :  4000 / 12500\n",
      "ACC : 0.3723 TRAIN LOSS: 1.6928\n",
      "----------------------------------------\n",
      "STEP :  4100 / 12500\n",
      "ACC : 0.3737 TRAIN LOSS: 1.6893\n",
      "----------------------------------------\n",
      "STEP :  4200 / 12500\n",
      "ACC : 0.3753 TRAIN LOSS: 1.6848\n",
      "----------------------------------------\n",
      "STEP :  4300 / 12500\n",
      "ACC : 0.3772 TRAIN LOSS: 1.6799\n",
      "----------------------------------------\n",
      "STEP :  4400 / 12500\n",
      "ACC : 0.3791 TRAIN LOSS: 1.6754\n",
      "----------------------------------------\n",
      "STEP :  4500 / 12500\n",
      "ACC : 0.3817 TRAIN LOSS: 1.6682\n",
      "----------------------------------------\n",
      "STEP :  4600 / 12500\n",
      "ACC : 0.3838 TRAIN LOSS: 1.6640\n",
      "----------------------------------------\n",
      "STEP :  4700 / 12500\n",
      "ACC : 0.3852 TRAIN LOSS: 1.6599\n",
      "----------------------------------------\n",
      "STEP :  4800 / 12500\n",
      "ACC : 0.3858 TRAIN LOSS: 1.6575\n",
      "----------------------------------------\n",
      "STEP :  4900 / 12500\n",
      "ACC : 0.3877 TRAIN LOSS: 1.6532\n",
      "----------------------------------------\n",
      "STEP :  5000 / 12500\n",
      "ACC : 0.3890 TRAIN LOSS: 1.6494\n",
      "----------------------------------------\n",
      "STEP :  5100 / 12500\n",
      "ACC : 0.3908 TRAIN LOSS: 1.6467\n",
      "----------------------------------------\n",
      "STEP :  5200 / 12500\n",
      "ACC : 0.3917 TRAIN LOSS: 1.6428\n",
      "----------------------------------------\n",
      "STEP :  5300 / 12500\n",
      "ACC : 0.3927 TRAIN LOSS: 1.6405\n",
      "----------------------------------------\n",
      "STEP :  5400 / 12500\n",
      "ACC : 0.3944 TRAIN LOSS: 1.6369\n",
      "----------------------------------------\n",
      "STEP :  5500 / 12500\n",
      "ACC : 0.3958 TRAIN LOSS: 1.6340\n",
      "----------------------------------------\n",
      "STEP :  5600 / 12500\n",
      "ACC : 0.3980 TRAIN LOSS: 1.6291\n",
      "----------------------------------------\n",
      "STEP :  5700 / 12500\n",
      "ACC : 0.3991 TRAIN LOSS: 1.6254\n",
      "----------------------------------------\n",
      "STEP :  5800 / 12500\n",
      "ACC : 0.4008 TRAIN LOSS: 1.6208\n",
      "----------------------------------------\n",
      "STEP :  5900 / 12500\n",
      "ACC : 0.4011 TRAIN LOSS: 1.6187\n",
      "----------------------------------------\n",
      "STEP :  6000 / 12500\n",
      "ACC : 0.4015 TRAIN LOSS: 1.6171\n",
      "----------------------------------------\n",
      "STEP :  6100 / 12500\n",
      "ACC : 0.4034 TRAIN LOSS: 1.6131\n",
      "----------------------------------------\n",
      "STEP :  6200 / 12500\n",
      "ACC : 0.4046 TRAIN LOSS: 1.6098\n",
      "----------------------------------------\n",
      "STEP :  6300 / 12500\n",
      "ACC : 0.4053 TRAIN LOSS: 1.6082\n",
      "----------------------------------------\n",
      "STEP :  6400 / 12500\n",
      "ACC : 0.4066 TRAIN LOSS: 1.6046\n",
      "----------------------------------------\n",
      "STEP :  6500 / 12500\n",
      "ACC : 0.4084 TRAIN LOSS: 1.6006\n"
     ]
    },
    {
     "ename": "KeyboardInterrupt",
     "evalue": "",
     "output_type": "error",
     "traceback": [
      "\u001b[1;31m---------------------------------------------------------------------------\u001b[0m",
      "\u001b[1;31mKeyboardInterrupt\u001b[0m                         Traceback (most recent call last)",
      "\u001b[1;32m<ipython-input-9-233d7e6dfd9b>\u001b[0m in \u001b[0;36m<module>\u001b[1;34m\u001b[0m\n\u001b[1;32m----> 1\u001b[1;33m \u001b[0mmodel_ft\u001b[0m \u001b[1;33m=\u001b[0m \u001b[0mtrain_model\u001b[0m\u001b[1;33m(\u001b[0m\u001b[0mmodel\u001b[0m\u001b[1;33m,\u001b[0m \u001b[0mcriterion\u001b[0m\u001b[1;33m,\u001b[0m \u001b[0moptimizer\u001b[0m\u001b[1;33m,\u001b[0m \u001b[0mexp_lr_scheduler\u001b[0m\u001b[1;33m,\u001b[0m \u001b[0mnum_epochs\u001b[0m\u001b[1;33m=\u001b[0m\u001b[1;36m30\u001b[0m\u001b[1;33m)\u001b[0m\u001b[1;33m\u001b[0m\u001b[1;33m\u001b[0m\u001b[0m\n\u001b[0m",
      "\u001b[1;32m<ipython-input-8-38367fde6a3e>\u001b[0m in \u001b[0;36mtrain_model\u001b[1;34m(model, criterion, optimizer, scheduler, num_epochs)\u001b[0m\n\u001b[0;32m     39\u001b[0m                     \u001b[1;32mif\u001b[0m \u001b[0mphase\u001b[0m \u001b[1;33m==\u001b[0m \u001b[1;34m'train'\u001b[0m\u001b[1;33m:\u001b[0m\u001b[1;33m\u001b[0m\u001b[1;33m\u001b[0m\u001b[0m\n\u001b[0;32m     40\u001b[0m                         \u001b[0mloss\u001b[0m\u001b[1;33m.\u001b[0m\u001b[0mbackward\u001b[0m\u001b[1;33m(\u001b[0m\u001b[1;33m)\u001b[0m\u001b[1;33m\u001b[0m\u001b[1;33m\u001b[0m\u001b[0m\n\u001b[1;32m---> 41\u001b[1;33m                         \u001b[0moptimizer\u001b[0m\u001b[1;33m.\u001b[0m\u001b[0mstep\u001b[0m\u001b[1;33m(\u001b[0m\u001b[1;33m)\u001b[0m\u001b[1;33m\u001b[0m\u001b[1;33m\u001b[0m\u001b[0m\n\u001b[0m\u001b[0;32m     42\u001b[0m \u001b[1;33m\u001b[0m\u001b[0m\n\u001b[0;32m     43\u001b[0m                 \u001b[1;31m# statistics\u001b[0m\u001b[1;33m\u001b[0m\u001b[1;33m\u001b[0m\u001b[1;33m\u001b[0m\u001b[0m\n",
      "\u001b[1;32m~\\Anaconda3\\envs\\gans\\lib\\site-packages\\torch\\optim\\lr_scheduler.py\u001b[0m in \u001b[0;36mwrapper\u001b[1;34m(*args, **kwargs)\u001b[0m\n\u001b[0;32m     65\u001b[0m                 \u001b[0minstance\u001b[0m\u001b[1;33m.\u001b[0m\u001b[0m_step_count\u001b[0m \u001b[1;33m+=\u001b[0m \u001b[1;36m1\u001b[0m\u001b[1;33m\u001b[0m\u001b[1;33m\u001b[0m\u001b[0m\n\u001b[0;32m     66\u001b[0m                 \u001b[0mwrapped\u001b[0m \u001b[1;33m=\u001b[0m \u001b[0mfunc\u001b[0m\u001b[1;33m.\u001b[0m\u001b[0m__get__\u001b[0m\u001b[1;33m(\u001b[0m\u001b[0minstance\u001b[0m\u001b[1;33m,\u001b[0m \u001b[0mcls\u001b[0m\u001b[1;33m)\u001b[0m\u001b[1;33m\u001b[0m\u001b[1;33m\u001b[0m\u001b[0m\n\u001b[1;32m---> 67\u001b[1;33m                 \u001b[1;32mreturn\u001b[0m \u001b[0mwrapped\u001b[0m\u001b[1;33m(\u001b[0m\u001b[1;33m*\u001b[0m\u001b[0margs\u001b[0m\u001b[1;33m,\u001b[0m \u001b[1;33m**\u001b[0m\u001b[0mkwargs\u001b[0m\u001b[1;33m)\u001b[0m\u001b[1;33m\u001b[0m\u001b[1;33m\u001b[0m\u001b[0m\n\u001b[0m\u001b[0;32m     68\u001b[0m \u001b[1;33m\u001b[0m\u001b[0m\n\u001b[0;32m     69\u001b[0m             \u001b[1;31m# Note that the returned function here is no longer a bound method,\u001b[0m\u001b[1;33m\u001b[0m\u001b[1;33m\u001b[0m\u001b[1;33m\u001b[0m\u001b[0m\n",
      "\u001b[1;32m~\\Anaconda3\\envs\\gans\\lib\\site-packages\\torch\\autograd\\grad_mode.py\u001b[0m in \u001b[0;36mdecorate_context\u001b[1;34m(*args, **kwargs)\u001b[0m\n\u001b[0;32m     13\u001b[0m         \u001b[1;32mdef\u001b[0m \u001b[0mdecorate_context\u001b[0m\u001b[1;33m(\u001b[0m\u001b[1;33m*\u001b[0m\u001b[0margs\u001b[0m\u001b[1;33m,\u001b[0m \u001b[1;33m**\u001b[0m\u001b[0mkwargs\u001b[0m\u001b[1;33m)\u001b[0m\u001b[1;33m:\u001b[0m\u001b[1;33m\u001b[0m\u001b[1;33m\u001b[0m\u001b[0m\n\u001b[0;32m     14\u001b[0m             \u001b[1;32mwith\u001b[0m \u001b[0mself\u001b[0m\u001b[1;33m:\u001b[0m\u001b[1;33m\u001b[0m\u001b[1;33m\u001b[0m\u001b[0m\n\u001b[1;32m---> 15\u001b[1;33m                 \u001b[1;32mreturn\u001b[0m \u001b[0mfunc\u001b[0m\u001b[1;33m(\u001b[0m\u001b[1;33m*\u001b[0m\u001b[0margs\u001b[0m\u001b[1;33m,\u001b[0m \u001b[1;33m**\u001b[0m\u001b[0mkwargs\u001b[0m\u001b[1;33m)\u001b[0m\u001b[1;33m\u001b[0m\u001b[1;33m\u001b[0m\u001b[0m\n\u001b[0m\u001b[0;32m     16\u001b[0m         \u001b[1;32mreturn\u001b[0m \u001b[0mdecorate_context\u001b[0m\u001b[1;33m\u001b[0m\u001b[1;33m\u001b[0m\u001b[0m\n\u001b[0;32m     17\u001b[0m \u001b[1;33m\u001b[0m\u001b[0m\n",
      "\u001b[1;32m~\\Anaconda3\\envs\\gans\\lib\\site-packages\\torch\\optim\\adam.py\u001b[0m in \u001b[0;36mstep\u001b[1;34m(self, closure)\u001b[0m\n\u001b[0;32m    105\u001b[0m                     \u001b[0mdenom\u001b[0m \u001b[1;33m=\u001b[0m \u001b[1;33m(\u001b[0m\u001b[0mmax_exp_avg_sq\u001b[0m\u001b[1;33m.\u001b[0m\u001b[0msqrt\u001b[0m\u001b[1;33m(\u001b[0m\u001b[1;33m)\u001b[0m \u001b[1;33m/\u001b[0m \u001b[0mmath\u001b[0m\u001b[1;33m.\u001b[0m\u001b[0msqrt\u001b[0m\u001b[1;33m(\u001b[0m\u001b[0mbias_correction2\u001b[0m\u001b[1;33m)\u001b[0m\u001b[1;33m)\u001b[0m\u001b[1;33m.\u001b[0m\u001b[0madd_\u001b[0m\u001b[1;33m(\u001b[0m\u001b[0mgroup\u001b[0m\u001b[1;33m[\u001b[0m\u001b[1;34m'eps'\u001b[0m\u001b[1;33m]\u001b[0m\u001b[1;33m)\u001b[0m\u001b[1;33m\u001b[0m\u001b[1;33m\u001b[0m\u001b[0m\n\u001b[0;32m    106\u001b[0m                 \u001b[1;32melse\u001b[0m\u001b[1;33m:\u001b[0m\u001b[1;33m\u001b[0m\u001b[1;33m\u001b[0m\u001b[0m\n\u001b[1;32m--> 107\u001b[1;33m                     \u001b[0mdenom\u001b[0m \u001b[1;33m=\u001b[0m \u001b[1;33m(\u001b[0m\u001b[0mexp_avg_sq\u001b[0m\u001b[1;33m.\u001b[0m\u001b[0msqrt\u001b[0m\u001b[1;33m(\u001b[0m\u001b[1;33m)\u001b[0m \u001b[1;33m/\u001b[0m \u001b[0mmath\u001b[0m\u001b[1;33m.\u001b[0m\u001b[0msqrt\u001b[0m\u001b[1;33m(\u001b[0m\u001b[0mbias_correction2\u001b[0m\u001b[1;33m)\u001b[0m\u001b[1;33m)\u001b[0m\u001b[1;33m.\u001b[0m\u001b[0madd_\u001b[0m\u001b[1;33m(\u001b[0m\u001b[0mgroup\u001b[0m\u001b[1;33m[\u001b[0m\u001b[1;34m'eps'\u001b[0m\u001b[1;33m]\u001b[0m\u001b[1;33m)\u001b[0m\u001b[1;33m\u001b[0m\u001b[1;33m\u001b[0m\u001b[0m\n\u001b[0m\u001b[0;32m    108\u001b[0m \u001b[1;33m\u001b[0m\u001b[0m\n\u001b[0;32m    109\u001b[0m                 \u001b[0mstep_size\u001b[0m \u001b[1;33m=\u001b[0m \u001b[0mgroup\u001b[0m\u001b[1;33m[\u001b[0m\u001b[1;34m'lr'\u001b[0m\u001b[1;33m]\u001b[0m \u001b[1;33m/\u001b[0m \u001b[0mbias_correction1\u001b[0m\u001b[1;33m\u001b[0m\u001b[1;33m\u001b[0m\u001b[0m\n",
      "\u001b[1;31mKeyboardInterrupt\u001b[0m: "
     ]
    }
   ],
   "source": [
    "model_ft = train_model(model, criterion, optimizer, exp_lr_scheduler, num_epochs=30)"
   ]
  },
  {
   "cell_type": "code",
   "execution_count": null,
   "metadata": {},
   "outputs": [],
   "source": [
    "model.fc1.weight"
   ]
  },
  {
   "cell_type": "code",
   "execution_count": 7,
   "metadata": {},
   "outputs": [
    {
     "data": {
      "text/plain": [
       "VGG(\n",
       "  (conv_1): Conv2d(3, 32, kernel_size=(3, 3), stride=(1, 1), padding=(1, 1))\n",
       "  (conv_2): Conv2d(32, 64, kernel_size=(3, 3), stride=(1, 1), padding=(1, 1))\n",
       "  (dropout1): Dropout(p=0.2, inplace=False)\n",
       "  (conv_3): Conv2d(64, 64, kernel_size=(3, 3), stride=(1, 1), padding=(1, 1))\n",
       "  (conv_4): Conv2d(64, 128, kernel_size=(3, 3), stride=(1, 1), padding=(1, 1))\n",
       "  (dropout2): Dropout(p=0.2, inplace=False)\n",
       "  (fc1): Linear(in_features=8192, out_features=512, bias=True)\n",
       "  (fc2): Linear(in_features=512, out_features=10, bias=True)\n",
       ")"
      ]
     },
     "execution_count": 7,
     "metadata": {},
     "output_type": "execute_result"
    }
   ],
   "source": [
    "model"
   ]
  },
  {
   "cell_type": "code",
   "execution_count": null,
   "metadata": {},
   "outputs": [],
   "source": []
  }
 ],
 "metadata": {
  "kernelspec": {
   "display_name": "Python 3",
   "language": "python",
   "name": "python3"
  },
  "language_info": {
   "codemirror_mode": {
    "name": "ipython",
    "version": 3
   },
   "file_extension": ".py",
   "mimetype": "text/x-python",
   "name": "python",
   "nbconvert_exporter": "python",
   "pygments_lexer": "ipython3",
   "version": "3.6.10"
  },
  "toc": {
   "base_numbering": 1,
   "nav_menu": {},
   "number_sections": true,
   "sideBar": true,
   "skip_h1_title": false,
   "title_cell": "Table of Contents",
   "title_sidebar": "Contents",
   "toc_cell": false,
   "toc_position": {},
   "toc_section_display": true,
   "toc_window_display": false
  },
  "varInspector": {
   "cols": {
    "lenName": 16,
    "lenType": 16,
    "lenVar": 40
   },
   "kernels_config": {
    "python": {
     "delete_cmd_postfix": "",
     "delete_cmd_prefix": "del ",
     "library": "var_list.py",
     "varRefreshCmd": "print(var_dic_list())"
    },
    "r": {
     "delete_cmd_postfix": ") ",
     "delete_cmd_prefix": "rm(",
     "library": "var_list.r",
     "varRefreshCmd": "cat(var_dic_list()) "
    }
   },
   "types_to_exclude": [
    "module",
    "function",
    "builtin_function_or_method",
    "instance",
    "_Feature"
   ],
   "window_display": false
  }
 },
 "nbformat": 4,
 "nbformat_minor": 4
}
