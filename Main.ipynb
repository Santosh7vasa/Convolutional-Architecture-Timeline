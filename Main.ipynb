{
 "cells": [
  {
   "cell_type": "code",
   "execution_count": 1,
   "metadata": {},
   "outputs": [],
   "source": [
    "import numpy as np\n",
    "import matplotlib.pyplot as plt\n",
    "import cv2\n",
    "import pandas as pd\n",
    "import time\n",
    "import copy\n",
    "import datetime"
   ]
  },
  {
   "cell_type": "code",
   "execution_count": 6,
   "metadata": {},
   "outputs": [
    {
     "name": "stdout",
     "output_type": "stream",
     "text": [
      "Runinng on : cuda:0 1.1.0\n"
     ]
    }
   ],
   "source": [
    "import torch \n",
    "from torch.nn import Conv2d, MaxPool2d, BatchNorm2d, Linear, Dropout, Module, CrossEntropyLoss, BatchNorm1d\n",
    "from torch.nn.functional import sigmoid, relu, leaky_relu, tanh, softmax, max_pool2d\n",
    "from torch.optim import Adam,RMSprop,SGD, lr_scheduler\n",
    "from torch.autograd import backward\n",
    "from torchvision.datasets import CIFAR100, CIFAR10\n",
    "import torchvision.transforms as transforms\n",
    "from torch.utils.data import DataLoader, Dataset\n",
    "from torch.utils.tensorboard import SummaryWriter\n",
    "device = torch.device(\"cuda:0\" if torch.cuda.is_available() else \"cpu\")\n",
    "import torchvision\n",
    "print(\"Runinng on :\", device,torch.__version__)"
   ]
  },
  {
   "cell_type": "code",
   "execution_count": 7,
   "metadata": {},
   "outputs": [
    {
     "name": "stdout",
     "output_type": "stream",
     "text": [
      "Files already downloaded and verified\n",
      "Files already downloaded and verified\n"
     ]
    }
   ],
   "source": [
    "transform = transforms.Compose(\n",
    "    [transforms.ToTensor(),\n",
    "     transforms.Normalize((0.5, 0.5, 0.5), (0.5, 0.5, 0.5))])\n",
    "train_dataset = CIFAR10(\"../Data/\",train=True,transform = transform,download=True)\n",
    "test_dataset = CIFAR10(\"../Data/\",train=False, transform = transform,download=True)"
   ]
  },
  {
   "cell_type": "code",
   "execution_count": 26,
   "metadata": {},
   "outputs": [],
   "source": [
    "writer = SummaryWriter(\"./runs/cifar10_experiment_1\")\n",
    "batch_size = 1\n",
    "train_dataloader = DataLoader(train_dataset,batch_size=batch_size, shuffle=True)\n",
    "test_dataloader = DataLoader(test_dataset,batch_size=batch_size,shuffle=True)"
   ]
  },
  {
   "cell_type": "code",
   "execution_count": 27,
   "metadata": {},
   "outputs": [
    {
     "name": "stdout",
     "output_type": "stream",
     "text": [
      "Train Size 50000\n",
      "Test Size 10000\n"
     ]
    }
   ],
   "source": [
    "print(\"Train Size\",len(train_dataloader))\n",
    "print(\"Test Size\",len(test_dataloader))\n",
    "dataloaders = {\"train\":train_dataloader, \"val\":test_dataloader}\n",
    "dataset_sizes = {\"train\":len(train_dataset), \"val\":len(test_dataset)}"
   ]
  },
  {
   "cell_type": "code",
   "execution_count": 28,
   "metadata": {},
   "outputs": [],
   "source": [
    "class CIFAR100(torch.nn.Module):\n",
    "    \n",
    "    def __init__(self):\n",
    "        super(CIFAR100,self).__init__()\n",
    "        #(feature_map - kernel + 2*padding)/stride + 1\n",
    "        self.conv_1 = Conv2d(in_channels = 3, out_channels=32,kernel_size=3,padding=1)\n",
    "        self.bn1 = BatchNorm2d(32)\n",
    "        self.conv_2 = Conv2d(in_channels = 32, out_channels=64,kernel_size=3,stride=1,padding=1)\n",
    "        self.bn2 = BatchNorm2d(64)\n",
    "        self.dropout_1 = Dropout(p=0.8)\n",
    "        \n",
    "        self.conv_3 = Conv2d(in_channels = 64, out_channels=64,kernel_size=3,padding=1)\n",
    "        self.bn3 = BatchNorm2d(64)\n",
    "        self.conv_4 = Conv2d(in_channels = 64, out_channels=128,kernel_size=3, stride=1,padding=1)\n",
    "        self.bn4 = BatchNorm2d(128)\n",
    "        self.dropout_2 = Dropout(p=0.8)\n",
    "        \n",
    "        self.fc1 = Linear(in_features=128*8*8, out_features = 512)\n",
    "        self.bn5 = BatchNorm1d(512)\n",
    "        self.fc2 = Linear(in_features=512, out_features=10)\n",
    "        \n",
    "        \n",
    "        \n",
    "    def forward(self,x):\n",
    "        x = relu(self.conv_1(x))\n",
    "        x = self.bn1(x)\n",
    "        x = relu(self.conv_2(x))\n",
    "        x = self.bn2(x)\n",
    "        x = max_pool2d(x,2)\n",
    "        x = self.dropout_1(x)\n",
    "\n",
    "        x = relu(self.conv_3(x))\n",
    "        x = self.bn3(x)\n",
    "        x = relu(self.conv_4(x))\n",
    "        x = self.bn4(x)\n",
    "        x = max_pool2d(x,2)\n",
    "        x = self.dropout_2(x)\n",
    "        x = x.view(-1, 128*8*8)\n",
    "        x = self.fc1(x)\n",
    "        x = self.bn5(x)\n",
    "        x = self.fc2(x)\n",
    "        x = softmax(x,dim=1)\n",
    "        return x"
   ]
  },
  {
   "cell_type": "code",
   "execution_count": 34,
   "metadata": {},
   "outputs": [
    {
     "name": "stdout",
     "output_type": "stream",
     "text": [
      "torch.Size([1, 3, 32, 32])\n"
     ]
    }
   ],
   "source": [
    "model = CIFAR100()\n",
    "model = model.to(device)\n",
    "\n",
    "\n",
    "# model = torchvision.models.resnet18(pretrained=False)\n",
    "# for param in model.parameters():\n",
    "#     param.requires_grad = True\n",
    "# num_ftrs = model.fc.in_features\n",
    "# model.fc = Linear(num_ftrs, 10)\n",
    "# model = model.to(device)\n",
    "\n",
    "images,labels = iter(train_dataloader).next()\n",
    "print(images.shape)\n",
    "writer.add_graph(model,  torch.rand((3,32,32)).unsqueeze(0).cuda())\n",
    "writer.close()\n",
    "# writer.add_graph(model,images)\n",
    "criterion = CrossEntropyLoss()\n",
    "optimizer = Adam(model.parameters(), lr=0.001)\n",
    "exp_lr_scheduler = lr_scheduler.StepLR(optimizer, step_size=30, gamma=0.1)"
   ]
  },
  {
   "cell_type": "code",
   "execution_count": null,
   "metadata": {},
   "outputs": [],
   "source": [
    "def train_model(model, criterion, optimizer, scheduler, num_epochs=5):\n",
    "    since = time.time()\n",
    "\n",
    "    best_model_wts = copy.deepcopy(model.state_dict())\n",
    "    best_acc = 0.0\n",
    "\n",
    "    for epoch in range(num_epochs):\n",
    "        print('Epoch {}/{}'.format(epoch, num_epochs - 1))\n",
    "        print('-' * 10)\n",
    "\n",
    "        # Each epoch has a training and validation phase\n",
    "        for phase in ['train', 'val']:\n",
    "            print(datetime.datetime.now())\n",
    "            if phase == 'train':\n",
    "                model.train()  # Set model to training mode\n",
    "            else:\n",
    "                model.eval()   # Set model to evaluate mode\n",
    "\n",
    "            running_loss = 0.0\n",
    "            running_corrects = 0\n",
    "\n",
    "            # Iterate over data.\n",
    "            count = 0\n",
    "            for inputs, labels in dataloaders[phase]:\n",
    "                inputs = inputs.to(device)\n",
    "                labels = labels.to(device)\n",
    "                count = count +1 \n",
    "                \n",
    "                # zero the parameter gradients\n",
    "                optimizer.zero_grad()\n",
    "\n",
    "                # forward\n",
    "                # track history if only in train\n",
    "                with torch.set_grad_enabled(phase == 'train'):\n",
    "                    outputs = model(inputs)\n",
    "#                     print(inputs.shape,outputs.shape)\n",
    "                    _, preds = torch.max(outputs, 1)\n",
    "                    loss = criterion(outputs, labels)\n",
    "\n",
    "                    # backward + optimize only if in training phase\n",
    "                    if phase == 'train':\n",
    "                        loss.backward()\n",
    "                        optimizer.step()\n",
    "\n",
    "                # statistics\n",
    "                running_loss += loss.item() * inputs.size(0)\n",
    "                running_corrects += torch.sum(preds == labels.data)\n",
    "#                 if phase == \"val\":\n",
    "#                     print(running_corrects)\n",
    "#                     print(preds, labels.data)\n",
    "                if count%100 == 0:\n",
    "                    print(\"STEP :\",count, phase.upper(),\"LOSS: \",loss.item())\n",
    "                    print('ACC :{:.4f}'.format(running_corrects.double()/(count*batch_size)))\n",
    "            if phase == 'train':\n",
    "                scheduler.step()\n",
    "\n",
    "            epoch_loss = running_loss / dataset_sizes[phase]\n",
    "            epoch_acc = running_corrects.double() / dataset_sizes[phase]\n",
    "\n",
    "            print('{} Loss: {:.4f} Acc: {:.4f}'.format(\n",
    "                phase, epoch_loss, epoch_acc))\n",
    "\n",
    "            # deep copy the model\n",
    "            if phase == 'val' and epoch_acc > best_acc:\n",
    "                best_acc = epoch_acc\n",
    "                best_model_wts = copy.deepcopy(model.state_dict())\n",
    "\n",
    "        print()\n",
    "\n",
    "    time_elapsed = time.time() - since\n",
    "    print('Training complete in {:.0f}m {:.0f}s'.format(\n",
    "        time_elapsed // 60, time_elapsed % 60))\n",
    "    print('Best val Acc: {:4f}'.format(best_acc))\n",
    "\n",
    "    # load best model weights\n",
    "    model.load_state_dict(best_model_wts)\n",
    "    return model"
   ]
  },
  {
   "cell_type": "code",
   "execution_count": null,
   "metadata": {
    "scrolled": true
   },
   "outputs": [],
   "source": [
    "model_ft = train_model(model, criterion, optimizer, exp_lr_scheduler,\n",
    "                       num_epochs=30)"
   ]
  },
  {
   "cell_type": "code",
   "execution_count": null,
   "metadata": {},
   "outputs": [],
   "source": []
  }
 ],
 "metadata": {
  "kernelspec": {
   "display_name": "Python 3",
   "language": "python",
   "name": "python3"
  },
  "language_info": {
   "codemirror_mode": {
    "name": "ipython",
    "version": 3
   },
   "file_extension": ".py",
   "mimetype": "text/x-python",
   "name": "python",
   "nbconvert_exporter": "python",
   "pygments_lexer": "ipython3",
   "version": "3.6.5"
  }
 },
 "nbformat": 4,
 "nbformat_minor": 4
}
