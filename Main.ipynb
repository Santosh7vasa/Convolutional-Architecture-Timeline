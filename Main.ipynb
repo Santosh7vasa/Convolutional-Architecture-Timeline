{
 "cells": [
  {
   "cell_type": "code",
   "execution_count": 13,
   "metadata": {},
   "outputs": [
    {
     "data": {
      "text/plain": [
       "<module 'models.y2014.VGG' from 'C:\\\\Users\\\\siddi\\\\Documents\\\\GitHub\\\\Convolutional-Architecture-Timeline\\\\models\\\\y2014\\\\VGG.py'>"
      ]
     },
     "execution_count": 13,
     "metadata": {},
     "output_type": "execute_result"
    }
   ],
   "source": [
    "import numpy as np\n",
    "import matplotlib.pyplot as plt\n",
    "import cv2\n",
    "import pandas as pd\n",
    "import time\n",
    "import copy\n",
    "import datetime\n",
    "from importlib import reload\n",
    "from models.y2014 import VGG\n",
    "reload(models.y2014.VGG)"
   ]
  },
  {
   "cell_type": "code",
   "execution_count": 11,
   "metadata": {},
   "outputs": [
    {
     "name": "stdout",
     "output_type": "stream",
     "text": [
      "Runinng on : cuda:0 \n",
      "PyTorch Verison : 1.5.0\n"
     ]
    }
   ],
   "source": [
    "import torch \n",
    "from torch import nn\n",
    "from torch.optim import Adam,RMSprop,SGD, lr_scheduler\n",
    "from torch.autograd import backward\n",
    "from torchvision.datasets import CIFAR100, CIFAR10\n",
    "import torchvision.transforms as transforms\n",
    "from torch.utils.data import DataLoader, Dataset\n",
    "from torch.utils.tensorboard import SummaryWriter\n",
    "device = torch.device(\"cuda:0\" if torch.cuda.is_available() else \"cpu\")\n",
    "import torchvision\n",
    "print(\"Runinng on :\", device,\"\\nPyTorch Verison :\",torch.__version__)"
   ]
  },
  {
   "cell_type": "code",
   "execution_count": 3,
   "metadata": {},
   "outputs": [
    {
     "name": "stdout",
     "output_type": "stream",
     "text": [
      "Files already downloaded and verified\n",
      "Files already downloaded and verified\n"
     ]
    }
   ],
   "source": [
    "transform = transforms.Compose(\n",
    "    [transforms.ToTensor(),\n",
    "     transforms.Normalize((0.5, 0.5, 0.5), (0.5, 0.5, 0.5))])\n",
    "train_dataset = CIFAR10(\"./data/\",train=True,transform = transform,download=True)\n",
    "test_dataset = CIFAR10(\"./data/\",train=False, transform = transform,download=True)"
   ]
  },
  {
   "cell_type": "code",
   "execution_count": 19,
   "metadata": {},
   "outputs": [],
   "source": [
    "writer = SummaryWriter(\"./runs/cifar10_experiment_1\")\n",
    "batch_size = 4\n",
    "train_dataloader = DataLoader(train_dataset,batch_size=batch_size, shuffle=True)\n",
    "test_dataloader = DataLoader(test_dataset,batch_size=batch_size,shuffle=True)"
   ]
  },
  {
   "cell_type": "code",
   "execution_count": 20,
   "metadata": {},
   "outputs": [
    {
     "name": "stdout",
     "output_type": "stream",
     "text": [
      "Train Size 12500\n",
      "Test Size 2500\n"
     ]
    }
   ],
   "source": [
    "print(\"Train Size\",len(train_dataloader))\n",
    "print(\"Test Size\",len(test_dataloader))\n",
    "dataloaders = {\"train\":train_dataloader, \"val\":test_dataloader}\n",
    "dataset_sizes = {\"train\":len(train_dataset), \"val\":len(test_dataset)}"
   ]
  },
  {
   "cell_type": "code",
   "execution_count": 21,
   "metadata": {},
   "outputs": [
    {
     "name": "stdout",
     "output_type": "stream",
     "text": [
      "torch.Size([4, 3, 32, 32])\n"
     ]
    }
   ],
   "source": [
    "model = VGG.VGG()\n",
    "model = model.to(device)\n",
    "\n",
    "\n",
    "# model = torchvision.models.resnet18(pretrained=False)\n",
    "# for param in model.parameters():\n",
    "#     param.requires_grad = True\n",
    "# num_ftrs = model.fc.in_features\n",
    "# model.fc = Linear(num_ftrs, 10)\n",
    "# model = model.to(device)\n",
    "\n",
    "images,labels = iter(train_dataloader).next()\n",
    "print(images.shape)\n",
    "writer.add_graph(model,  torch.rand((3,32,32)).unsqueeze(0).cuda())\n",
    "writer.close()\n",
    "# writer.add_graph(model,images)\n",
    "criterion = nn.CrossEntropyLoss()\n",
    "optimizer = Adam(model.parameters(), lr=0.001)\n",
    "exp_lr_scheduler = lr_scheduler.StepLR(optimizer, step_size=30, gamma=0.1)"
   ]
  },
  {
   "cell_type": "code",
   "execution_count": 22,
   "metadata": {},
   "outputs": [],
   "source": [
    "def train_model(model, criterion, optimizer, scheduler, num_epochs=5):\n",
    "    since = time.time()\n",
    "\n",
    "    best_model_wts = copy.deepcopy(model.state_dict())\n",
    "    best_acc = 0.0\n",
    "\n",
    "    for epoch in range(num_epochs):\n",
    "        print('Epoch {}/{}'.format(epoch, num_epochs - 1))\n",
    "        print('-' * 10)\n",
    "\n",
    "        # Each epoch has a training and validation phase\n",
    "        for phase in ['train', 'val']:\n",
    "            print(datetime.datetime.now())\n",
    "            if phase == 'train':\n",
    "                model.train()  # Set model to training mode\n",
    "            else:\n",
    "                model.eval()   # Set model to evaluate mode\n",
    "\n",
    "            running_loss = 0.0\n",
    "            running_corrects = 0\n",
    "\n",
    "            # Iterate over data.\n",
    "            count = 0\n",
    "            for inputs, labels in dataloaders[phase]:\n",
    "                inputs = inputs.to(device)\n",
    "                labels = labels.to(device)\n",
    "                count = count +1 \n",
    "                \n",
    "                # zero the parameter gradients\n",
    "                optimizer.zero_grad()\n",
    "\n",
    "                # forward\n",
    "                # track history if only in train\n",
    "                with torch.set_grad_enabled(phase == 'train'):\n",
    "                    outputs = model(inputs)\n",
    "#                     print(inputs.shape,outputs.shape)\n",
    "                    _, preds = torch.max(outputs, 1)\n",
    "                    loss = criterion(outputs, labels)\n",
    "\n",
    "                    # backward + optimize only if in training phase\n",
    "                    if phase == 'train':\n",
    "                        loss.backward()\n",
    "                        optimizer.step()\n",
    "\n",
    "                # statistics\n",
    "                running_loss += loss.item() * inputs.size(0)\n",
    "                running_corrects += torch.sum(preds == labels.data)\n",
    "#                 if phase == \"val\":\n",
    "#                     print(running_corrects)\n",
    "#                     print(preds, labels.data)\n",
    "                if count%100 == 0:\n",
    "                    print(\"STEP :\",count, phase.upper(),\"LOSS: \",loss.item())\n",
    "                    print('ACC :{:.4f}'.format(running_corrects.double()/(count*batch_size)))\n",
    "            if phase == 'train':\n",
    "                scheduler.step()\n",
    "\n",
    "            epoch_loss = running_loss / dataset_sizes[phase]\n",
    "            epoch_acc = running_corrects.double() / dataset_sizes[phase]\n",
    "\n",
    "            print('{} Loss: {:.4f} Acc: {:.4f}'.format(\n",
    "                phase, epoch_loss, epoch_acc))\n",
    "\n",
    "            # deep copy the model\n",
    "            if phase == 'val' and epoch_acc > best_acc:\n",
    "                best_acc = epoch_acc\n",
    "                best_model_wts = copy.deepcopy(model.state_dict())\n",
    "\n",
    "        print()\n",
    "\n",
    "    time_elapsed = time.time() - since\n",
    "    print('Training complete in {:.0f}m {:.0f}s'.format(\n",
    "        time_elapsed // 60, time_elapsed % 60))\n",
    "    print('Best val Acc: {:4f}'.format(best_acc))\n",
    "\n",
    "    # load best model weights\n",
    "    model.load_state_dict(best_model_wts)\n",
    "    return model"
   ]
  },
  {
   "cell_type": "code",
   "execution_count": 23,
   "metadata": {
    "scrolled": true
   },
   "outputs": [
    {
     "name": "stdout",
     "output_type": "stream",
     "text": [
      "Epoch 0/29\n",
      "----------\n",
      "2020-06-13 13:10:27.436931\n",
      "STEP : 100 TRAIN LOSS:  2.281263589859009\n",
      "ACC :0.1725\n",
      "STEP : 200 TRAIN LOSS:  1.4195636510849\n",
      "ACC :0.1875\n",
      "STEP : 300 TRAIN LOSS:  1.8480496406555176\n",
      "ACC :0.1967\n",
      "STEP : 400 TRAIN LOSS:  2.039726972579956\n",
      "ACC :0.2119\n",
      "STEP : 500 TRAIN LOSS:  1.2516205310821533\n",
      "ACC :0.2180\n",
      "STEP : 600 TRAIN LOSS:  2.0630698204040527\n",
      "ACC :0.2229\n",
      "STEP : 700 TRAIN LOSS:  1.8876532316207886\n",
      "ACC :0.2300\n",
      "STEP : 800 TRAIN LOSS:  2.4823920726776123\n",
      "ACC :0.2322\n",
      "STEP : 900 TRAIN LOSS:  1.4706668853759766\n",
      "ACC :0.2383\n",
      "STEP : 1000 TRAIN LOSS:  1.5589556694030762\n",
      "ACC :0.2420\n",
      "STEP : 1100 TRAIN LOSS:  2.429675579071045\n",
      "ACC :0.2470\n",
      "STEP : 1200 TRAIN LOSS:  1.8573260307312012\n",
      "ACC :0.2481\n",
      "STEP : 1300 TRAIN LOSS:  2.3949663639068604\n",
      "ACC :0.2521\n",
      "STEP : 1400 TRAIN LOSS:  1.1058449745178223\n",
      "ACC :0.2541\n",
      "STEP : 1500 TRAIN LOSS:  2.559734344482422\n",
      "ACC :0.2537\n",
      "STEP : 1600 TRAIN LOSS:  1.5450152158737183\n",
      "ACC :0.2567\n",
      "STEP : 1700 TRAIN LOSS:  1.8438308238983154\n",
      "ACC :0.2588\n",
      "STEP : 1800 TRAIN LOSS:  3.1038613319396973\n",
      "ACC :0.2619\n",
      "STEP : 1900 TRAIN LOSS:  1.8280940055847168\n",
      "ACC :0.2661\n"
     ]
    },
    {
     "ename": "KeyboardInterrupt",
     "evalue": "",
     "output_type": "error",
     "traceback": [
      "\u001b[1;31m---------------------------------------------------------------------------\u001b[0m",
      "\u001b[1;31mKeyboardInterrupt\u001b[0m                         Traceback (most recent call last)",
      "\u001b[1;32m<ipython-input-23-7c93d31ce63f>\u001b[0m in \u001b[0;36m<module>\u001b[1;34m\u001b[0m\n\u001b[0;32m      1\u001b[0m model_ft = train_model(model, criterion, optimizer, exp_lr_scheduler,\n\u001b[1;32m----> 2\u001b[1;33m                        num_epochs=30)\n\u001b[0m",
      "\u001b[1;32m<ipython-input-22-49fe1001dd32>\u001b[0m in \u001b[0;36mtrain_model\u001b[1;34m(model, criterion, optimizer, scheduler, num_epochs)\u001b[0m\n\u001b[0;32m     44\u001b[0m \u001b[1;33m\u001b[0m\u001b[0m\n\u001b[0;32m     45\u001b[0m                 \u001b[1;31m# statistics\u001b[0m\u001b[1;33m\u001b[0m\u001b[1;33m\u001b[0m\u001b[1;33m\u001b[0m\u001b[0m\n\u001b[1;32m---> 46\u001b[1;33m                 \u001b[0mrunning_loss\u001b[0m \u001b[1;33m+=\u001b[0m \u001b[0mloss\u001b[0m\u001b[1;33m.\u001b[0m\u001b[0mitem\u001b[0m\u001b[1;33m(\u001b[0m\u001b[1;33m)\u001b[0m \u001b[1;33m*\u001b[0m \u001b[0minputs\u001b[0m\u001b[1;33m.\u001b[0m\u001b[0msize\u001b[0m\u001b[1;33m(\u001b[0m\u001b[1;36m0\u001b[0m\u001b[1;33m)\u001b[0m\u001b[1;33m\u001b[0m\u001b[1;33m\u001b[0m\u001b[0m\n\u001b[0m\u001b[0;32m     47\u001b[0m                 \u001b[0mrunning_corrects\u001b[0m \u001b[1;33m+=\u001b[0m \u001b[0mtorch\u001b[0m\u001b[1;33m.\u001b[0m\u001b[0msum\u001b[0m\u001b[1;33m(\u001b[0m\u001b[0mpreds\u001b[0m \u001b[1;33m==\u001b[0m \u001b[0mlabels\u001b[0m\u001b[1;33m.\u001b[0m\u001b[0mdata\u001b[0m\u001b[1;33m)\u001b[0m\u001b[1;33m\u001b[0m\u001b[1;33m\u001b[0m\u001b[0m\n\u001b[0;32m     48\u001b[0m \u001b[1;31m#                 if phase == \"val\":\u001b[0m\u001b[1;33m\u001b[0m\u001b[1;33m\u001b[0m\u001b[1;33m\u001b[0m\u001b[0m\n",
      "\u001b[1;31mKeyboardInterrupt\u001b[0m: "
     ]
    }
   ],
   "source": [
    "model_ft = train_model(model, criterion, optimizer, exp_lr_scheduler,\n",
    "                       num_epochs=30)"
   ]
  },
  {
   "cell_type": "code",
   "execution_count": null,
   "metadata": {},
   "outputs": [],
   "source": []
  }
 ],
 "metadata": {
  "kernelspec": {
   "display_name": "Python 3",
   "language": "python",
   "name": "python3"
  },
  "language_info": {
   "codemirror_mode": {
    "name": "ipython",
    "version": 3
   },
   "file_extension": ".py",
   "mimetype": "text/x-python",
   "name": "python",
   "nbconvert_exporter": "python",
   "pygments_lexer": "ipython3",
   "version": "3.6.10"
  },
  "toc": {
   "base_numbering": 1,
   "nav_menu": {},
   "number_sections": true,
   "sideBar": true,
   "skip_h1_title": false,
   "title_cell": "Table of Contents",
   "title_sidebar": "Contents",
   "toc_cell": false,
   "toc_position": {},
   "toc_section_display": true,
   "toc_window_display": false
  },
  "varInspector": {
   "cols": {
    "lenName": 16,
    "lenType": 16,
    "lenVar": 40
   },
   "kernels_config": {
    "python": {
     "delete_cmd_postfix": "",
     "delete_cmd_prefix": "del ",
     "library": "var_list.py",
     "varRefreshCmd": "print(var_dic_list())"
    },
    "r": {
     "delete_cmd_postfix": ") ",
     "delete_cmd_prefix": "rm(",
     "library": "var_list.r",
     "varRefreshCmd": "cat(var_dic_list()) "
    }
   },
   "types_to_exclude": [
    "module",
    "function",
    "builtin_function_or_method",
    "instance",
    "_Feature"
   ],
   "window_display": false
  }
 },
 "nbformat": 4,
 "nbformat_minor": 4
}
